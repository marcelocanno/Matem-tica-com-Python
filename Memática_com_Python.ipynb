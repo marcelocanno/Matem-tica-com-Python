{
  "nbformat": 4,
  "nbformat_minor": 0,
  "metadata": {
    "colab": {
      "provenance": [],
      "authorship_tag": "ABX9TyN0BOzujR/0Xg7TYblMgeCb",
      "include_colab_link": true
    },
    "kernelspec": {
      "name": "python3",
      "display_name": "Python 3"
    },
    "language_info": {
      "name": "python"
    }
  },
  "cells": [
    {
      "cell_type": "markdown",
      "metadata": {
        "id": "view-in-github",
        "colab_type": "text"
      },
      "source": [
        "<a href=\"https://colab.research.google.com/github/marcelocanno/Matem-tica-com-Python/blob/main/Mem%C3%A1tica_com_Python.ipynb\" target=\"_parent\"><img src=\"https://colab.research.google.com/assets/colab-badge.svg\" alt=\"Open In Colab\"/></a>"
      ]
    },
    {
      "cell_type": "markdown",
      "source": [
        "# TREINANDO MATEMÁTICA EM PYTHON"
      ],
      "metadata": {
        "id": "K3PAR8JPiLS9"
      }
    },
    {
      "cell_type": "code",
      "source": [
        "! pip install pandas"
      ],
      "metadata": {
        "id": "N5UvM0AF9IFU",
        "colab": {
          "base_uri": "https://localhost:8080/"
        },
        "outputId": "6d70c8ff-4394-4da7-90e1-814aaf6daad5"
      },
      "execution_count": 1,
      "outputs": [
        {
          "output_type": "stream",
          "name": "stdout",
          "text": [
            "Requirement already satisfied: pandas in /usr/local/lib/python3.10/dist-packages (2.0.3)\n",
            "Requirement already satisfied: python-dateutil>=2.8.2 in /usr/local/lib/python3.10/dist-packages (from pandas) (2.8.2)\n",
            "Requirement already satisfied: pytz>=2020.1 in /usr/local/lib/python3.10/dist-packages (from pandas) (2023.4)\n",
            "Requirement already satisfied: tzdata>=2022.1 in /usr/local/lib/python3.10/dist-packages (from pandas) (2024.1)\n",
            "Requirement already satisfied: numpy>=1.21.0 in /usr/local/lib/python3.10/dist-packages (from pandas) (1.25.2)\n",
            "Requirement already satisfied: six>=1.5 in /usr/local/lib/python3.10/dist-packages (from python-dateutil>=2.8.2->pandas) (1.16.0)\n"
          ]
        }
      ]
    },
    {
      "cell_type": "code",
      "source": [
        "import pandas as ps"
      ],
      "metadata": {
        "id": "BDYMWgjr5nZG"
      },
      "execution_count": 2,
      "outputs": []
    },
    {
      "cell_type": "code",
      "execution_count": 3,
      "metadata": {
        "colab": {
          "base_uri": "https://localhost:8080/"
        },
        "id": "N-YqmyZn49kv",
        "outputId": "f54c7400-44ff-4f23-868d-ca47e1b9b23c"
      },
      "outputs": [
        {
          "output_type": "stream",
          "name": "stdout",
          "text": [
            "Este programa calcula a área da circuferência\n",
            "Informe o raio da circunferência: 50\n",
            "A área da circunferência é:  7853.974999999999\n"
          ]
        }
      ],
      "source": [
        "print(\"Este programa calcula a área da circuferência\")\n",
        "raio = float(input(\"Informe o raio da circunferência: \"))\n",
        "pi = 3.14159\n",
        "area = pi * (raio**2)\n",
        "print(\"A área da circunferência é: \", area)\n"
      ]
    },
    {
      "cell_type": "code",
      "source": [
        "notaA = float(input(\"Informe a nota A do aluno com uma casa decimal: \"))\n",
        "notaB = float(input(\"Informe a nota B do aluno com uma casa decimal: \"))\n",
        "pesoA = 3.5\n",
        "pesoB = 7.5\n",
        "mediaPonderada = ((notaA * pesoA) + (notaB * pesoB)) / (pesoA + pesoB)\n",
        "mediaPonderada = round(mediaPonderada, 1)\n",
        "print(\"A média ponderada do aluno é: \", mediaPonderada)"
      ],
      "metadata": {
        "id": "pmbWoXMA5Zjy",
        "colab": {
          "base_uri": "https://localhost:8080/"
        },
        "outputId": "b988943e-125d-43a3-a4f8-abb6776bdba0"
      },
      "execution_count": 4,
      "outputs": [
        {
          "output_type": "stream",
          "name": "stdout",
          "text": [
            "Informe a nota A do aluno com uma casa decimal: 60\n",
            "Informe a nota B do aluno com uma casa decimal: 80\n",
            "A média ponderada do aluno é:  73.6\n"
          ]
        }
      ]
    },
    {
      "cell_type": "code",
      "source": [
        "notaA = float(input(\"Informe a nota A do aluno com uma casa decimal: \"))\n",
        "notaB = float(input(\"Informe a nota B do aluno com uma casa decimal: \"))\n",
        "notaC = float(input(\"Informe a nota C do aluno com uma casa decimal: \"))\n",
        "pesoA = 2\n",
        "pesoB = 3\n",
        "pesoC = 5\n",
        "mediaPonderada = ((notaA * pesoA) + (notaB * pesoB) + (notaC * pesoC)) / (pesoA + pesoB + pesoC)\n",
        "mediaPonderada = round(mediaPonderada, 1)\n",
        "print(\"A média ponderada do aluno é: \", mediaPonderada)"
      ],
      "metadata": {
        "id": "h44zk6E85j7c",
        "colab": {
          "base_uri": "https://localhost:8080/"
        },
        "outputId": "5b673e2b-6d04-4783-c42e-94acc08bd8fb"
      },
      "execution_count": 5,
      "outputs": [
        {
          "output_type": "stream",
          "name": "stdout",
          "text": [
            "Informe a nota A do aluno com uma casa decimal: 80\n",
            "Informe a nota B do aluno com uma casa decimal: 90\n",
            "Informe a nota C do aluno com uma casa decimal: 70\n",
            "A média ponderada do aluno é:  78.0\n"
          ]
        }
      ]
    },
    {
      "cell_type": "code",
      "source": [
        "num = int(input(\"Informe um número >= 100 e <= 999: \"))\n",
        "if (num >= 100 and num <= 999):\n",
        "  unidades = num % 10\n",
        "  num = num // 10 # divisao inteira\n",
        "  dezenas = num % 10\n",
        "  num = num // 10\n",
        "  centenas = num % 10\n",
        "  print(\"Centenas: \", centenas)\n",
        "  print(\"Dezenas: \", dezenas)\n",
        "  print(\"Unidades: \", unidades)\n",
        "else:\n",
        "  print(\"O número informado não é >= 100 e <= 999.\")"
      ],
      "metadata": {
        "id": "qzstTTh45xBP",
        "colab": {
          "base_uri": "https://localhost:8080/"
        },
        "outputId": "c268b139-203b-444d-e3f4-6bf58d5c9116"
      },
      "execution_count": 6,
      "outputs": [
        {
          "output_type": "stream",
          "name": "stdout",
          "text": [
            "Informe um número >= 100 e <= 999: 140\n",
            "Centenas:  1\n",
            "Dezenas:  4\n",
            "Unidades:  0\n"
          ]
        }
      ]
    },
    {
      "cell_type": "code",
      "source": [
        "num = int(input(\"Informe o número do funcionário: \"))\n",
        "horas = int(input(\"Informe o número de horas trabalhadas pelo funcionário: \"))\n",
        "valor_hora = float(input(\"Informe o valor/hora do funcionário: \"))\n",
        "salario = horas * valor_hora\n",
        "print(\"Número do funcionário: \", num)\n",
        "print(\"Salário a receber: \", salario)\n"
      ],
      "metadata": {
        "id": "Ysw62S6153nG",
        "colab": {
          "base_uri": "https://localhost:8080/"
        },
        "outputId": "3b571f08-6823-4ebe-abd1-f41df3d3fd17"
      },
      "execution_count": 7,
      "outputs": [
        {
          "output_type": "stream",
          "name": "stdout",
          "text": [
            "Informe o número do funcionário: 76\n",
            "Informe o número de horas trabalhadas pelo funcionário: 220\n",
            "Informe o valor/hora do funcionário: 4.60\n",
            "Número do funcionário:  76\n",
            "Salário a receber:  1011.9999999999999\n"
          ]
        }
      ]
    },
    {
      "cell_type": "code",
      "source": [
        "numA = int(input(\"Informe o valor A: \"))\n",
        "numB = int(input(\"Informe o valor B: \"))\n",
        "numC = int(input(\"Informe o valor C: \"))\n",
        "numD = int(input(\"Informe o valor D: \"))\n",
        "dif_prod = (numA*numB) - (numC*numD)\n",
        "print(\"(A*B) - (C*D) = \", dif_prod)"
      ],
      "metadata": {
        "id": "uXo70Q9n6SCe",
        "colab": {
          "base_uri": "https://localhost:8080/"
        },
        "outputId": "6cf0912e-1de8-4666-e236-5c3edd590294"
      },
      "execution_count": 8,
      "outputs": [
        {
          "output_type": "stream",
          "name": "stdout",
          "text": [
            "Informe o valor A: 80\n",
            "Informe o valor B: 60\n",
            "Informe o valor C: 90\n",
            "Informe o valor D: 40\n",
            "(A*B) - (C*D) =  1200\n"
          ]
        }
      ]
    },
    {
      "cell_type": "code",
      "source": [
        "for i in range (1,21,1): # um embaixo do outro\n",
        "  print(i)\n",
        "\n",
        "for i in range (1,21,1): # um ao lado do outro\n",
        "  print(i, end=\" \")"
      ],
      "metadata": {
        "id": "ewaRLVrD8DPO",
        "colab": {
          "base_uri": "https://localhost:8080/"
        },
        "outputId": "0e1fc19f-520f-4787-8978-76b417857431"
      },
      "execution_count": 9,
      "outputs": [
        {
          "output_type": "stream",
          "name": "stdout",
          "text": [
            "1\n",
            "2\n",
            "3\n",
            "4\n",
            "5\n",
            "6\n",
            "7\n",
            "8\n",
            "9\n",
            "10\n",
            "11\n",
            "12\n",
            "13\n",
            "14\n",
            "15\n",
            "16\n",
            "17\n",
            "18\n",
            "19\n",
            "20\n",
            "1 2 3 4 5 6 7 8 9 10 11 12 13 14 15 16 17 18 19 20 "
          ]
        }
      ]
    },
    {
      "cell_type": "code",
      "source": [
        "2\n",
        "import numpy as np\n",
        "tamanho = int(input(\"Informe o tamanho do vetor: \"))\n",
        "vetor = np.empty(tamanho, dtype = float)\n",
        "cont = 0\n",
        "while (cont<tamanho): # le vetor\n",
        "  vetor[cont] = float(input(\"Digite o elemento de índice %d: \"%(cont)))\n",
        "  cont+=1\n",
        "\n",
        "# observe que cont=tamanho\n",
        "cont-=1 # aqui faz cont = tamanho-1\n",
        "print(\"\\nImprime elementos na ordem inversa...\")\n",
        "while (cont >= 0): # escreve posicoes vetor comecando pelo final e indo até o início\n",
        "  print(vetor[cont], end=\" \")\n",
        "  cont-=1"
      ],
      "metadata": {
        "id": "ZIwO3zX48KW1",
        "colab": {
          "base_uri": "https://localhost:8080/"
        },
        "outputId": "f7d096fe-c44d-4f08-dea7-6d65bd1db84f"
      },
      "execution_count": 10,
      "outputs": [
        {
          "output_type": "stream",
          "name": "stdout",
          "text": [
            "Informe o tamanho do vetor: 20\n",
            "Digite o elemento de índice 0: 2\n",
            "Digite o elemento de índice 1: 40\n",
            "Digite o elemento de índice 2: 9\n",
            "Digite o elemento de índice 3: 55\n",
            "Digite o elemento de índice 4: 9\n",
            "Digite o elemento de índice 5: 8\n",
            "Digite o elemento de índice 6: 7\n",
            "Digite o elemento de índice 7: 6\n",
            "Digite o elemento de índice 8: 5\n",
            "Digite o elemento de índice 9: 4\n",
            "Digite o elemento de índice 10: 3\n",
            "Digite o elemento de índice 11: 2\n",
            "Digite o elemento de índice 12: 1\n",
            "Digite o elemento de índice 13: 6\n",
            "Digite o elemento de índice 14: 9\n",
            "Digite o elemento de índice 15: 7\n",
            "Digite o elemento de índice 16: 2\n",
            "Digite o elemento de índice 17: 8\n",
            "Digite o elemento de índice 18: 9\n",
            "Digite o elemento de índice 19: 4\n",
            "\n",
            "Imprime elementos na ordem inversa...\n",
            "4.0 9.0 8.0 2.0 7.0 9.0 6.0 1.0 2.0 3.0 4.0 5.0 6.0 7.0 8.0 9.0 55.0 9.0 40.0 2.0 "
          ]
        }
      ]
    },
    {
      "cell_type": "code",
      "source": [
        "caracteres = input(\"Digite 10 caracteres e pressione enter: \")\n",
        "contconsoante = 0\n",
        "if len(caracteres) != 10:\n",
        "  print(\"Você não digitou 10 caracteres.\")\n",
        "else:\n",
        "  caracteres = caracteres.lower()\n",
        "  for meucaracter in caracteres:\n",
        "    if (meucaracter not in \"aeiou\"):\n",
        "      contconsoante += 1\n",
        "  print(\"Dentre os caracteres que você digitou há %d consoantes\"%(contconsoante))"
      ],
      "metadata": {
        "id": "boejPf5l8Qmr",
        "colab": {
          "base_uri": "https://localhost:8080/"
        },
        "outputId": "4a57f6f5-fad8-4ea4-f889-8e3f18e6275d"
      },
      "execution_count": 12,
      "outputs": [
        {
          "output_type": "stream",
          "name": "stdout",
          "text": [
            "Digite 10 caracteres e pressione enter: mhrwdsterf\n",
            "Dentre os caracteres que você digitou há 9 consoantes\n"
          ]
        }
      ]
    },
    {
      "cell_type": "code",
      "source": [
        "import numpy as np\n",
        "\n",
        "print(\"Informe a idade de 5 pessoas:\\n\")\n",
        "vetor = np.empty(5, dtype=int)\n",
        "maioridade = 18\n",
        "numMaior = 0\n",
        "\n",
        "for i in range(0,5,1):\n",
        "  vetor[i] = int(input())\n",
        "  if vetor[i] >= maioridade:\n",
        "    numMaior+=1\n",
        "print(\"%d pessoas já atingiram a maioridade.\" % numMaior)"
      ],
      "metadata": {
        "id": "daV-b6h08Zh0",
        "colab": {
          "base_uri": "https://localhost:8080/"
        },
        "outputId": "9ab1ea29-d61f-45cb-99f5-52761b89c7d8"
      },
      "execution_count": 17,
      "outputs": [
        {
          "output_type": "stream",
          "name": "stdout",
          "text": [
            "Informe a idade de 5 pessoas:\n",
            "\n",
            "23\n",
            "54\n",
            "33\n",
            "15\n",
            "27\n",
            "4 pessoas já atingiram a maioridade.\n"
          ]
        }
      ]
    },
    {
      "cell_type": "code",
      "source": [
        "largura = int(input(\"Entre com a largura do retângulo: \"))\n",
        "altura = int(input(\"Entre com a altura do retângulo: \"))\n",
        "for i in range(0,altura,1):\n",
        "  if(i ==0 or i==(altura-1)):\n",
        "    for j in range(0, largura, 1):\n",
        "      print(\"* \", end=\"\") # foi impresso um asterisco e 1 espaço\n",
        "    print()\n",
        "  else:\n",
        "    for j in range(0, largura, 1):\n",
        "      if(j==0 or j==(largura-1)):\n",
        "        print(\"* \", end=\"\")\n",
        "      else:\n",
        "        print(\"  \", end=\"\")\n",
        "    print()\n"
      ],
      "metadata": {
        "id": "avPix2ma8iwl",
        "colab": {
          "base_uri": "https://localhost:8080/"
        },
        "outputId": "35d16271-a199-4155-c6b8-025542f5f747"
      },
      "execution_count": 19,
      "outputs": [
        {
          "output_type": "stream",
          "name": "stdout",
          "text": [
            "Entre com a largura do retângulo: 9\n",
            "Entre com a altura do retângulo: 8\n",
            "* * * * * * * * * \n",
            "*               * \n",
            "*               * \n",
            "*               * \n",
            "*               * \n",
            "*               * \n",
            "*               * \n",
            "* * * * * * * * * \n"
          ]
        }
      ]
    },
    {
      "cell_type": "markdown",
      "source": [
        "**<center>THE END</center>**\n"
      ],
      "metadata": {
        "id": "-4zWG4G5h1YK"
      }
    },
    {
      "cell_type": "code",
      "source": [],
      "metadata": {
        "id": "XlYg7xOL8pel"
      },
      "execution_count": null,
      "outputs": []
    }
  ]
}